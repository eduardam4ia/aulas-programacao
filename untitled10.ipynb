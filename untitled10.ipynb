{
  "nbformat": 4,
  "nbformat_minor": 0,
  "metadata": {
    "colab": {
      "provenance": [],
      "authorship_tag": "ABX9TyMJRg74mXp42aaKuGPcm8aS",
      "include_colab_link": true
    },
    "kernelspec": {
      "name": "python3",
      "display_name": "Python 3"
    },
    "language_info": {
      "name": "python"
    }
  },
  "cells": [
    {
      "cell_type": "markdown",
      "metadata": {
        "id": "view-in-github",
        "colab_type": "text"
      },
      "source": [
        "<a href=\"https://colab.research.google.com/github/eduardam4ia/aulas-programacao/blob/main/untitled10.ipynb\" target=\"_parent\"><img src=\"https://colab.research.google.com/assets/colab-badge.svg\" alt=\"Open In Colab\"/></a>"
      ]
    },
    {
      "cell_type": "code",
      "execution_count": null,
      "metadata": {
        "colab": {
          "base_uri": "https://localhost:8080/"
        },
        "id": "rVIgoprVXfED",
        "outputId": "67260af0-a7e0-4b72-a00d-f46eb7188232"
      },
      "outputs": [
        {
          "output_type": "stream",
          "name": "stdout",
          "text": [
            "digite um número maior que 1: 20\n",
            "0\n",
            "1\n",
            "3\n",
            "6\n",
            "10\n",
            "15\n",
            "21\n",
            "28\n",
            "36\n",
            "45\n",
            "55\n",
            "66\n",
            "78\n",
            "91\n",
            "105\n",
            "120\n",
            "136\n",
            "153\n",
            "171\n",
            "190\n"
          ]
        }
      ],
      "source": [
        "num = int(input('digite um número maior que 1: '))\n",
        "cont = 0\n",
        "listNumerica = []\n",
        "while(cont < num):\n",
        "  listNumerica.append(cont)\n",
        "  cont +=1\n",
        "  print(sum(listNumerica))\n",
        "  "
      ]
    },
    {
      "cell_type": "code",
      "source": [
        "num = int(input('digite um número maior que 1: '))\n",
        "cont = 0\n",
        "soma = 0\n",
        "listNumerica = []\n",
        "while(cont <= num):\n",
        "  soma += cont\n",
        "  cont+=1\n",
        "  print(soma)"
      ],
      "metadata": {
        "colab": {
          "base_uri": "https://localhost:8080/"
        },
        "id": "7krK3i89YGe4",
        "outputId": "a5688dd9-8e3c-4a61-da70-57f7bcc900ce"
      },
      "execution_count": null,
      "outputs": [
        {
          "output_type": "stream",
          "name": "stdout",
          "text": [
            "digite um número maior que 1: 20\n",
            "0\n",
            "1\n",
            "3\n",
            "6\n",
            "10\n",
            "15\n",
            "21\n",
            "28\n",
            "36\n",
            "45\n",
            "55\n",
            "66\n",
            "78\n",
            "91\n",
            "105\n",
            "120\n",
            "136\n",
            "153\n",
            "171\n",
            "190\n",
            "210\n"
          ]
        }
      ]
    },
    {
      "cell_type": "code",
      "source": [
        "#Pede a senha do usuário. E dá 5 chances para o usuário  inserir a senha\n",
        "\n",
        "senha = 'd123'\n",
        "userPass = input('Digite sua senha: ')\n",
        "cont = 0\n",
        "while(cont < 3):\n",
        "  if(userPass == senha):\n",
        "    print('Seja bem vindo ao meu sistema')\n",
        "    break\n",
        "  else:\n",
        "      print('Senha incorreta')\n",
        "      userPass = input('Tente novamente')\n",
        "\n",
        "      print('Senha incorreta')\n",
        "\n",
        "if(cont == 3):\n",
        "  print('Senha incorreta')\n",
        "  print('Senha incorreta')\n",
        "\n",
        "  "
      ],
      "metadata": {
        "id": "4D5fIcn-YJG_"
      },
      "execution_count": null,
      "outputs": []
    },
    {
      "cell_type": "code",
      "source": [
        "#Testar a entrada do usuário\n",
        "#isdigt() Verificar se o que foi digitado é um número ou não\n",
        "\n",
        "num = input('digite um número')\n",
        "num.isdigit()\n",
        "\n"
      ],
      "metadata": {
        "colab": {
          "base_uri": "https://localhost:8080/"
        },
        "id": "fN3sZnJxY7nh",
        "outputId": "f598747d-a43d-4f98-8b66-5dadca727e6f"
      },
      "execution_count": null,
      "outputs": [
        {
          "name": "stdout",
          "output_type": "stream",
          "text": [
            "digite um número234\n"
          ]
        },
        {
          "output_type": "execute_result",
          "data": {
            "text/plain": [
              "True"
            ]
          },
          "metadata": {},
          "execution_count": 4
        }
      ]
    },
    {
      "cell_type": "code",
      "source": [
        "#Solicitar que o usuário digite um nome. Caso ele digite um número, avise 'Entrada'\n",
        "\n",
        "nome= input('Digite o nome! ')\n",
        "if(nome.isdigit()):\n",
        "  print('Entrada incorreta!')\n",
        "else:\n",
        "    print(f'o nome {nome} foi inserido com sucesso')"
      ],
      "metadata": {
        "colab": {
          "base_uri": "https://localhost:8080/"
        },
        "id": "ztyjPC-JZN9h",
        "outputId": "8f54cef8-c940-4e8a-a91b-a7370cd99e71"
      },
      "execution_count": null,
      "outputs": [
        {
          "output_type": "stream",
          "name": "stdout",
          "text": [
            "Digite o nome! Maria\n",
            "o nome Maria foi inserido com sucesso\n"
          ]
        }
      ]
    },
    {
      "cell_type": "code",
      "source": [
        "texto = input('digita aí ')\n",
        "texto.isalpha()"
      ],
      "metadata": {
        "colab": {
          "base_uri": "https://localhost:8080/"
        },
        "id": "MSO9r-5lZ8b7",
        "outputId": "48bd3eb4-dbde-4c93-911a-ff6fb53cea6a"
      },
      "execution_count": null,
      "outputs": [
        {
          "name": "stdout",
          "output_type": "stream",
          "text": [
            "digita aí ma ria\n"
          ]
        },
        {
          "output_type": "execute_result",
          "data": {
            "text/plain": [
              "False"
            ]
          },
          "metadata": {},
          "execution_count": 10
        }
      ]
    }
  ]
}