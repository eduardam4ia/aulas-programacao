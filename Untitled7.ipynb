{
  "nbformat": 4,
  "nbformat_minor": 0,
  "metadata": {
    "colab": {
      "provenance": [],
      "authorship_tag": "ABX9TyN1R9nm4ARARqVc/ehHZucw",
      "include_colab_link": true
    },
    "kernelspec": {
      "name": "python3",
      "display_name": "Python 3"
    },
    "language_info": {
      "name": "python"
    }
  },
  "cells": [
    {
      "cell_type": "markdown",
      "metadata": {
        "id": "view-in-github",
        "colab_type": "text"
      },
      "source": [
        "<a href=\"https://colab.research.google.com/github/eduardam4ia/aulas-programacao/blob/main/Untitled7.ipynb\" target=\"_parent\"><img src=\"https://colab.research.google.com/assets/colab-badge.svg\" alt=\"Open In Colab\"/></a>"
      ]
    },
    {
      "cell_type": "code",
      "execution_count": 6,
      "metadata": {
        "colab": {
          "base_uri": "https://localhost:8080/"
        },
        "id": "M1PEiMPwWxee",
        "outputId": "db76880d-14f7-47cb-b176-57f44669af12"
      },
      "outputs": [
        {
          "name": "stdout",
          "output_type": "stream",
          "text": [
            "Digite uma cidade: pipa\n",
            "Digite uma cidade: joao pessoa\n",
            "Digite uma cidade: areia\n",
            "Digite uma cidade: fortaleza\n",
            "Digite uma cidade: 0\n"
          ]
        },
        {
          "output_type": "execute_result",
          "data": {
            "text/plain": [
              "['pipa', 'joao pessoa', 'areia', 'fortaleza']"
            ]
          },
          "metadata": {},
          "execution_count": 6
        }
      ],
      "source": [
        "#inserir nomes de cidades\n",
        "#0 laço encerra, quando digitar 0\n",
        "cidades = []\n",
        "city = input('Digite uma cidade: ')\n",
        "\n",
        "while(city != '0'):\n",
        "  cidades.append(city)\n",
        "  city = input('Digite uma cidade: ')\n",
        "\n",
        "cidades"
      ]
    },
    {
      "cell_type": "code",
      "source": [
        "#par ou ímpar\n",
        "num = int(input('Digite um numero: '))\n",
        "\n",
        "\n",
        "while(num >= 0):\n",
        "\n",
        " if(num % 2 == 0):\n",
        "   print('É par')\n",
        "    num = int(input('Digite um numero:'))\n",
        " else:\n",
        "   print('É ímpar')\n",
        "    num= int(input('Digite um numero:'))\n",
        "\n",
        "\n",
        "   print(\"progrqmq acqbou\")"
      ],
      "metadata": {
        "colab": {
          "base_uri": "https://localhost:8080/",
          "height": 130
        },
        "id": "0c8VVMBCZGA3",
        "outputId": "a6476e60-4acc-40d9-d159-6f0f56f8c1e8"
      },
      "execution_count": 35,
      "outputs": [
        {
          "output_type": "error",
          "ename": "IndentationError",
          "evalue": "ignored",
          "traceback": [
            "\u001b[0;36m  File \u001b[0;32m\"<ipython-input-35-60ed1c114a47>\"\u001b[0;36m, line \u001b[0;32m9\u001b[0m\n\u001b[0;31m    num = int(input('Digite um numero:'))\u001b[0m\n\u001b[0m    ^\u001b[0m\n\u001b[0;31mIndentationError\u001b[0m\u001b[0;31m:\u001b[0m unexpected indent\n"
          ]
        }
      ]
    },
    {
      "cell_type": "code",
      "source": [],
      "metadata": {
        "id": "KBGlroD8Y4Gx"
      },
      "execution_count": null,
      "outputs": []
    }
  ]
}