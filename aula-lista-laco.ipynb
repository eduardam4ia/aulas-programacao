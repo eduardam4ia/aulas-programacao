{
  "nbformat": 4,
  "nbformat_minor": 0,
  "metadata": {
    "colab": {
      "provenance": [],
      "authorship_tag": "ABX9TyNWWOGZ7snvENxd8z3G5qb1",
      "include_colab_link": true
    },
    "kernelspec": {
      "name": "python3",
      "display_name": "Python 3"
    },
    "language_info": {
      "name": "python"
    }
  },
  "cells": [
    {
      "cell_type": "markdown",
      "metadata": {
        "id": "view-in-github",
        "colab_type": "text"
      },
      "source": [
        "<a href=\"https://colab.research.google.com/github/eduardam4ia/aulas-programacao/blob/main/aula-lista-laco.ipynb\" target=\"_parent\"><img src=\"https://colab.research.google.com/assets/colab-badge.svg\" alt=\"Open In Colab\"/></a>"
      ]
    },
    {
      "cell_type": "code",
      "execution_count": 2,
      "metadata": {
        "colab": {
          "base_uri": "https://localhost:8080/"
        },
        "id": "OmdlWZXZONMb",
        "outputId": "7c135813-7df6-4945-d548-4317a0960178"
      },
      "outputs": [
        {
          "output_type": "stream",
          "name": "stdout",
          "text": [
            "tem Luiz não\n"
          ]
        }
      ],
      "source": [
        "alunos = ['Mariana', 'Beatriz', 'Rodrigo', 'Alice']\n",
        "alunos[3] = 'Alice'\n",
        "alunos.append('Beatriz')\n",
        "if 'Luiz' in alunos:\n",
        "     print('tem Luiz sim')\n",
        "else:\n",
        "       print('tem Luiz não')\n",
        "       nome = input('digite o nome')\n",
        "       if nome in alunos:\n",
        "          print(t'tem', beatriz)\n",
        "          else:"
      ]
    },
    {
      "cell_type": "code",
      "source": [
        "nome = input('Digite nome')\n",
        "if 'nome' in alunos:\n",
        "     print('Tem', nome)\n",
        "else:\n",
        "       print('Tem  não', nome)"
      ],
      "metadata": {
        "colab": {
          "base_uri": "https://localhost:8080/"
        },
        "id": "b2xv89qsQRza",
        "outputId": "d7b6ff04-6490-4890-80dd-a42ba5688df9"
      },
      "execution_count": 3,
      "outputs": [
        {
          "output_type": "stream",
          "name": "stdout",
          "text": [
            "Digite nomeMariana\n",
            "Tem  não Mariana\n"
          ]
        }
      ]
    },
    {
      "cell_type": "code",
      "source": [
        "#criar uma liosta com números de 1 a 15\n",
        "numeros = []\n",
        "for num in range(15):\n",
        "  numeros.append(num)\n",
        "numeros\n",
        "  "
      ],
      "metadata": {
        "colab": {
          "base_uri": "https://localhost:8080/"
        },
        "id": "OYr72OXjSZu0",
        "outputId": "bd476d92-fbdf-4ca9-8287-825b5fac972c"
      },
      "execution_count": 7,
      "outputs": [
        {
          "output_type": "execute_result",
          "data": {
            "text/plain": [
              "[0, 1, 2, 3, 4, 5, 6, 7, 8, 9, 10, 11, 12, 13, 14]"
            ]
          },
          "metadata": {},
          "execution_count": 7
        }
      ]
    },
    {
      "cell_type": "code",
      "source": [
        "dobro = []\n",
        "for num in numeros:\n",
        " dobro.append(numeros[num]*2)\n",
        "dobro\n"
      ],
      "metadata": {
        "colab": {
          "base_uri": "https://localhost:8080/"
        },
        "id": "3oD2AYk2UziY",
        "outputId": "d2632919-e53f-4503-a480-6a152c2741e9"
      },
      "execution_count": 21,
      "outputs": [
        {
          "output_type": "execute_result",
          "data": {
            "text/plain": [
              "[0, 2, 4, 6, 8, 10, 12, 14, 16, 18, 20, 22, 24, 26, 28]"
            ]
          },
          "metadata": {},
          "execution_count": 21
        }
      ]
    },
    {
      "cell_type": "code",
      "source": [],
      "metadata": {
        "id": "4XkrYT5RXY7W"
      },
      "execution_count": null,
      "outputs": []
    },
    {
      "cell_type": "code",
      "source": [
        "#descobrir se um número é par\n",
        "a = 3\n",
        "if a%2 == 0:\n",
        "  print( 'é par')\n",
        "else:\n",
        "    print('é ímpar')"
      ],
      "metadata": {
        "colab": {
          "base_uri": "https://localhost:8080/"
        },
        "id": "D85kjdQwW5fG",
        "outputId": "e3920d8d-cf0b-4ee2-85b5-b094f1b36b7b"
      },
      "execution_count": 23,
      "outputs": [
        {
          "output_type": "stream",
          "name": "stdout",
          "text": [
            "é ímpar\n"
          ]
        }
      ]
    },
    {
      "cell_type": "code",
      "source": [
        "#descobrir se um número é par\n",
        "for num in numeros:\n",
        "  if numeros[num]%2 == 0:\n",
        "    print(numeros[num])\n"
      ],
      "metadata": {
        "colab": {
          "base_uri": "https://localhost:8080/"
        },
        "id": "nFX6X2ECXe5u",
        "outputId": "83470617-772d-4c40-9c8e-4b5baed48619"
      },
      "execution_count": 29,
      "outputs": [
        {
          "output_type": "stream",
          "name": "stdout",
          "text": [
            "0\n",
            "2\n",
            "4\n",
            "6\n",
            "8\n",
            "10\n",
            "12\n"
          ]
        }
      ]
    }
  ]
}